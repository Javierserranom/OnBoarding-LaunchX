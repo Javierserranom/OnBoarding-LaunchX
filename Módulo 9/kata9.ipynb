{
 "cells": [
  {
   "cell_type": "markdown",
   "metadata": {},
   "source": [
    "## Módulo 9\n",
    "### Ejercicio 1: Trabajar con argumentos en funciones\n",
    "Comienza por crear una función que necesite tres lecturas de combustible y devuelva un informe:"
   ]
  },
  {
   "cell_type": "code",
   "execution_count": 2,
   "metadata": {},
   "outputs": [],
   "source": [
    "def report(tank1, tank2, tank3):\n",
    "    average=(tank1 + tank2 + tank3)/3\n",
    "    return f\"\"\"\"Fuel report:\n",
    "        Total fuel: {average}%\n",
    "    ... Tank 1: {tank1} %\n",
    "    ... Tank 2: {tank2} %\n",
    "    ... Tank 3: {tank3} %\"\"\""
   ]
  },
  {
   "cell_type": "markdown",
   "metadata": {},
   "source": [
    "Ahora que hemos definido la función de informes, vamos a comprobarlo. Para esta misión, los tanques no están llenos:"
   ]
  },
  {
   "cell_type": "code",
   "execution_count": 3,
   "metadata": {},
   "outputs": [
    {
     "name": "stdout",
     "output_type": "stream",
     "text": [
      "\"Fuel report:\n",
      "        Total fuel: 33.333333333333336%\n",
      "    ... Tank 1: 30 %\n",
      "    ... Tank 2: 20 %\n",
      "    ... Tank 3: 50 %\n"
     ]
    }
   ],
   "source": [
    "print(report(30,20,50))"
   ]
  },
  {
   "cell_type": "markdown",
   "metadata": {},
   "source": [
    "En lugar de simplemente crear el informe, la función también está calculando el promedio. Mejora la legibilidad extrayendo el cálculo promedio de la función en una nueva función para que el promedio se pueda hacer de forma independiente:"
   ]
  },
  {
   "cell_type": "code",
   "execution_count": 1,
   "metadata": {},
   "outputs": [],
   "source": [
    "def average(tanks):\n",
    "    total = sum(tanks)\n",
    "    total_items = len(tanks)\n",
    "    av=total / total_items\n",
    "    return av"
   ]
  },
  {
   "cell_type": "markdown",
   "metadata": {},
   "source": [
    "Ahora actualiza la función de informes para llamando a la nueva función del promedio:"
   ]
  },
  {
   "cell_type": "code",
   "execution_count": 2,
   "metadata": {},
   "outputs": [],
   "source": [
    "def report_generator(Tank1, Tank2, Tank3):\n",
    "    return f\"\"\"Fuel Report:\n",
    "    Total Fuel: {average([Tank1, Tank2, Tank3])}%\n",
    "    Tank 1: {Tank1}%\n",
    "    Tank 2: {Tank2}%\n",
    "    Tank 3: {Tank3}% \n",
    "    \"\"\""
   ]
  },
  {
   "cell_type": "code",
   "execution_count": 3,
   "metadata": {},
   "outputs": [
    {
     "name": "stdout",
     "output_type": "stream",
     "text": [
      "Fuel Report:\n",
      "    Total Fuel: 45.333333333333336%\n",
      "    Tank 1: 40%\n",
      "    Tank 2: 59%\n",
      "    Tank 3: 37% \n",
      "    \n"
     ]
    }
   ],
   "source": [
    "print(report_generator(40, 59, 37))"
   ]
  },
  {
   "cell_type": "markdown",
   "metadata": {},
   "source": [
    "### Ejercicio 2: Trabajo con argumentos de palabra clave\n",
    "En este ejercicio, construirás un informe de cohete que requiere varias piezas de información, como el tiempo hasta el destino, el combustible restante y el nombre del destino. Comienza por crear una función que creará un informe preciso de la misión:"
   ]
  },
  {
   "cell_type": "code",
   "execution_count": 6,
   "metadata": {},
   "outputs": [],
   "source": [
    "def rocket_report(prelaunch_time, fly_time, destination, external_tank, internal_tank):\n",
    "    return f\"\"\"Launch to: {destination}\n",
    "     Time to arrive: {prelaunch_time + fly_time} min\n",
    "     Total fuel : {external_tank + internal_tank} % \"\"\"\n",
    "    "
   ]
  },
  {
   "cell_type": "code",
   "execution_count": 8,
   "metadata": {},
   "outputs": [
    {
     "name": "stdout",
     "output_type": "stream",
     "text": [
      "Launch to: Moon\n",
      "     Time to arrive: 60 min\n",
      "     Total fuel : 97 % \n"
     ]
    }
   ],
   "source": [
    "print(rocket_report(5,55,\"Moon\", 47, 50 ))"
   ]
  },
  {
   "cell_type": "markdown",
   "metadata": {},
   "source": [
    "La función es problemática porque no se puede adaptar para minutos adicionales o tanques adicionales de combustible. Hazlo más flexible permitiendo cualquier número de pasos basados en el tiempo y cualquier número de tanques. En lugar de usar *args y **kwargs, aprovecha el hecho de que puedes usar cualquier nombre que desees. Asegurate que la función sea más legible mediante el uso de nombres de variables que están asociados con las entradas, como *minutes y **fuel_reservoirs:"
   ]
  },
  {
   "cell_type": "code",
   "execution_count": 15,
   "metadata": {},
   "outputs": [],
   "source": [
    "def rocket_inform(destination, *minutes, **fuel_reservoirs ):\n",
    "    return f\"\"\"Launch to: {destination}\n",
    "     Time to arrive: {sum(minutes)} min\n",
    "     Total fuel : {sum(fuel_reservoirs.values())} % \"\"\"\n"
   ]
  },
  {
   "cell_type": "code",
   "execution_count": 16,
   "metadata": {},
   "outputs": [
    {
     "name": "stdout",
     "output_type": "stream",
     "text": [
      "Launch to: Moon\n",
      "     Time to arrive: 119 min\n",
      "     Total fuel : 82 % \n"
     ]
    }
   ],
   "source": [
    "print(rocket_inform(\"Moon\", 47, 50, 22, external=33, internal=49 ))"
   ]
  },
  {
   "cell_type": "code",
   "execution_count": null,
   "metadata": {},
   "outputs": [],
   "source": []
  }
 ],
 "metadata": {
  "interpreter": {
   "hash": "324e240ea573fd3d8056e12ea70d483238364e9b42112e18bb174b35d8d396b2"
  },
  "kernelspec": {
   "display_name": "Python 3.10.2 64-bit",
   "language": "python",
   "name": "python3"
  },
  "language_info": {
   "codemirror_mode": {
    "name": "ipython",
    "version": 3
   },
   "file_extension": ".py",
   "mimetype": "text/x-python",
   "name": "python",
   "nbconvert_exporter": "python",
   "pygments_lexer": "ipython3",
   "version": "3.10.2"
  },
  "orig_nbformat": 4
 },
 "nbformat": 4,
 "nbformat_minor": 2
}
